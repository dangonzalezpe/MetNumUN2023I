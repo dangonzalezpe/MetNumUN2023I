{
  "nbformat": 4,
  "nbformat_minor": 0,
  "metadata": {
    "colab": {
      "provenance": [],
      "include_colab_link": true
    },
    "kernelspec": {
      "name": "python3",
      "display_name": "Python 3"
    }
  },
  "cells": [
    {
      "cell_type": "markdown",
      "metadata": {
        "id": "view-in-github",
        "colab_type": "text"
      },
      "source": [
        "<a href=\"https://colab.research.google.com/github/dangonzalezpe/MetNumUN2023I/blob/main/Quiz1/dangonzalezpe_Quiz1.ipynb\" target=\"_parent\"><img src=\"https://colab.research.google.com/assets/colab-badge.svg\" alt=\"Open In Colab\"/></a>"
      ]
    },
    {
      "cell_type": "markdown",
      "source": [
        "**Solution 1**"
      ],
      "metadata": {
        "id": "BX8ejJrpQdgb"
      }
    },
    {
      "cell_type": "code",
      "source": [
        "#Do not change this function's name, parameters or output format. It will be used in automatic grading.\n",
        "\n",
        "def FizzBuzz(x):\n",
        "    if x % 3 == 0 and x % 5 == 0:\n",
        "        return \"FizzBuzz!\"\n",
        "    elif x % 3 == 0:\n",
        "        return \"Fizz!\"\n",
        "    elif x % 5 == 0:\n",
        "        return \"Buzz!\"\n",
        "    else:\n",
        "        return \"...\""
      ],
      "metadata": {
        "id": "4kkesp9PQisR"
      },
      "execution_count": null,
      "outputs": []
    },
    {
      "cell_type": "markdown",
      "source": [
        "**Solution 2**"
      ],
      "metadata": {
        "id": "O-OLGB5BZIQq"
      }
    },
    {
      "cell_type": "code",
      "source": [
        "#Do not change this function's name, parameters or output format. It will be used in automatic grading.\n",
        "\n",
        "def FizzBuzzList(n):\n",
        "    if n <= 0:\n",
        "        return []\n",
        "    else:\n",
        "        return [FizzBuzz(i) for i in range(1, n+1)]"
      ],
      "metadata": {
        "id": "dIYchJvEZMEJ"
      },
      "execution_count": null,
      "outputs": []
    },
    {
      "cell_type": "markdown",
      "source": [
        "**Solution 3**"
      ],
      "metadata": {
        "id": "frfaDDj0k7tJ"
      }
    },
    {
      "cell_type": "code",
      "source": [
        "#Do not change this function's name, parameters or output format. It will be used in automatic grading.\n",
        "\n",
        "import numpy as np\n",
        "\n",
        "def standarize(X):\n",
        "  X_standarized = (X-X.mean())/X.std() # only one line of code\n",
        "  return X_standarized"
      ],
      "metadata": {
        "id": "vUf0_xqXgHSj"
      },
      "execution_count": null,
      "outputs": []
    },
    {
      "cell_type": "markdown",
      "source": [
        "**Solution 4**"
      ],
      "metadata": {
        "id": "p8uDiIUC2-i8"
      }
    },
    {
      "cell_type": "code",
      "source": [
        "#Do not change this function's name, parameters or output format. It will be used in automatic grading.\n",
        "\n",
        "import numpy as np\n",
        "\n",
        "def main_diagonal_matrix(A):\n",
        "  D = np.diag(np.diag(A)).astype(float) # only one line of code\n",
        "  return D"
      ],
      "metadata": {
        "id": "thogtwflo6-x"
      },
      "execution_count": null,
      "outputs": []
    }
  ]
}